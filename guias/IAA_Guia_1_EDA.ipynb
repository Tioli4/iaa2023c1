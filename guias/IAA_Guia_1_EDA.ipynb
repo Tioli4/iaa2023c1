{
 "cells": [
  {
   "cell_type": "markdown",
   "id": "42619251-17ac-44a3-982f-1c5bdc8eeda3",
   "metadata": {
    "id": "42619251-17ac-44a3-982f-1c5bdc8eeda3",
    "tags": []
   },
   "source": [
    "# Guía 1 - Análisis Exploratorio de Datos\n",
    "\n",
    "## Introducción\n",
    "\n",
    "El objetivo de este notebook es que hagamos un repaso de las herramientas del ecosistema de datos de Python y, de paso, que comiencen a familiarizarse con el dataset que utilizaremos en las primeras clases. Si alguno/a siente que necesita un repaso más fuerte de Python, dejamos dos notebooks y algunas referencias que pueden utilizar en la [Guía 0](COMPLETAR).\n",
    "\n",
    "Durante las primeras clases vamos a trabajar con el dataset de Bicicletas Públicas de la Ciudad de Buenos Aires (EcoBici). [Aquí](https://data.buenosaires.gob.ar/dataset/bicicletas-publicas) pueden encontrar los datos para varios años. Nosotros vamos a utilizar - al menos, por ahora - solamente los datos para el **año 2018**. \n",
    "\n",
    "Vamos a dar los primeros pasos dentro de la larga lista de pasos que hacen a un proyecto exitoso de Aprendizaje Automático. El nombre de esta etapa es conocido como Análisis Exploratorio de Datos, y puede ser una de las etapas más entretenidas e instructivas del proceso. Lo que vamos a hacer hoy, entonces, es:\n",
    "\n",
    "\n",
    "1. Conseguir y abrir los datos.\n",
    "1. Explorar y visualizar los datos para comenzar a conocer el dataset. Para ello, es importante tener en la cabeza estas preguntas para guiar el trabajo:\n",
    "    * ¿Qué preguntas podríamos responder con este dataset?\n",
    "    * ¿Necesitamos datos adicionales?\n",
    "\n",
    "\n",
    "#### Resolución\n",
    "\n",
    "Vamos a dejar una resolución mínima de las consignas para que les sirva de puntapié inicial. ¡Ésta no será la norma! De hecho, si te animás, podés copiar el notebook y descartar las resoluciones, y solamente dejar esta notebook como referencia.\n",
    "\n",
    "## Consigna\n",
    "\n",
    "Les dejamos una guía preliminar para que comiencen a trabajar. Muchos de esos pasos son generales a cualquier proyecto de Ciencia de Datos. Por ese motivo, es importante ser criteriosos/as para saber cuáles son pertinentes y cuáles no en cada proyecto.\n",
    "\n",
    "**Ejercicio**: importa las liberías que utilizaremos. Asegurate de tenerlas todas instaladas en el ambiente que creaste.\n",
    "\n",
    "\n"
   ]
  },
  {
   "cell_type": "code",
   "execution_count": null,
   "id": "e07bbeba-a160-422c-8b35-1a37972be892",
   "metadata": {
    "id": "e07bbeba-a160-422c-8b35-1a37972be892"
   },
   "outputs": [],
   "source": [
    "import numpy as np\n",
    "import pandas as pd\n",
    "\n",
    "### LIBRERIAS PARA GRAFICAR\n",
    "import matplotlib.pyplot as plt\n",
    "import seaborn as sns"
   ]
  },
  {
   "cell_type": "markdown",
   "id": "1fac92d1-54a3-43b6-922d-2d996000e363",
   "metadata": {
    "id": "1fac92d1-54a3-43b6-922d-2d996000e363"
   },
   "source": [
    "**Ejercicio**. Descargar el archivo \"recorridos-realizados-2018.zip\" (dejamos un snippet para descargar localmente el archivo o pueden descargarlo de la página). Abrirlo con Pandas y responder:\n",
    "\n",
    "* ¿Qué tipo de archivo es? \n",
    "* Imprima sus primeros cinco elementos. \n",
    "\n",
    "_Pista: Considere el uso de metodos `pd.read_csv()`, `.head()`. Puede ver su documentacion colocando el signo `?` luego del metodo y ejecutando la celda, e.g. `pd.read_csv?`._\n"
   ]
  },
  {
   "cell_type": "code",
   "execution_count": null,
   "id": "ArdXH9Ev0fKT",
   "metadata": {
    "id": "ArdXH9Ev0fKT",
    "outputId": "6aaa5c01-cde5-4f2d-d384-08fe468bce80"
   },
   "outputs": [],
   "source": [
    "1#descargamos el archivo\n",
    "!wget https://github.com/LCD-UNSAM/iaa2023c1/raw/main/datasets/recorridos-realizados-2018.zip"
   ]
  },
  {
   "cell_type": "markdown",
   "id": "bb4bc3fd-1ff5-46ef-9fcd-0b0bf3c1fc80",
   "metadata": {
    "id": "bb4bc3fd-1ff5-46ef-9fcd-0b0bf3c1fc80"
   },
   "source": [
    "Cargamos los datos e imprimos las cinco primeras filas del DataFrame."
   ]
  },
  {
   "cell_type": "code",
   "execution_count": null,
   "id": "yTdRmo3F0eUh",
   "metadata": {
    "id": "yTdRmo3F0eUh",
    "outputId": "17d1e317-f8fd-41bf-e315-8d290f9a14b7"
   },
   "outputs": [],
   "source": [
    "data = pd.read_csv('recorridos-realizados-2018.zip')\n",
    "# data = pd.read_csv('datasets/ecobicis/recorridos-realizados-2018.zip', \n",
    "#             parse_dates=['fecha_origen_recorrido', 'fecha_destino_recorrido'])\n",
    "data.head()"
   ]
  },
  {
   "cell_type": "markdown",
   "id": "a60f2d89-9174-4440-9bfa-c70be6123bfc",
   "metadata": {
    "id": "a60f2d89-9174-4440-9bfa-c70be6123bfc",
    "jp-MarkdownHeadingCollapsed": true,
    "tags": []
   },
   "source": [
    "**Ejercicio:** ¿Cuántas columnas tiene?¿Cuáles son sus nombres?¿Y cuántas filas (instancias)? Pistas: `.shape`, `.columns`."
   ]
  },
  {
   "cell_type": "code",
   "execution_count": null,
   "id": "2c1baee8-b6da-40dd-a69c-0ebfe58366a4",
   "metadata": {
    "id": "2c1baee8-b6da-40dd-a69c-0ebfe58366a4",
    "outputId": "4529f58b-d215-46b5-b894-f799d61fc1a8"
   },
   "outputs": [],
   "source": [
    "print(data.shape)"
   ]
  },
  {
   "cell_type": "markdown",
   "id": "907617a2-2f30-489c-8740-802cf10df645",
   "metadata": {
    "id": "907617a2-2f30-489c-8740-802cf10df645"
   },
   "source": [
    "El dataset tiene 26199968 filas, 16 columnas. Sus nombres son:"
   ]
  },
  {
   "cell_type": "code",
   "execution_count": null,
   "id": "edb865df-2b7b-41f1-ad19-ca59e0faa60b",
   "metadata": {
    "id": "edb865df-2b7b-41f1-ad19-ca59e0faa60b",
    "outputId": "4d53685b-1d11-4774-a98c-f6ff5d544fed"
   },
   "outputs": [],
   "source": [
    "data.columns"
   ]
  },
  {
   "cell_type": "markdown",
   "id": "85ca2e93-7aaf-4fba-a098-1d6193f4c12c",
   "metadata": {
    "id": "85ca2e93-7aaf-4fba-a098-1d6193f4c12c",
    "jp-MarkdownHeadingCollapsed": true,
    "tags": []
   },
   "source": [
    "**Ejercicio:**. ¿Qué tipo de datos hay en cada columna? (numéricos, categóricos, etc.). ¿Qué valores toman y cuál es su rango de validez? Familiarizarse con la información presente en cada columna. Pista: `.info()`"
   ]
  },
  {
   "cell_type": "code",
   "execution_count": null,
   "id": "f95ae745-d65a-45db-a57f-f6e15978e5a5",
   "metadata": {
    "id": "f95ae745-d65a-45db-a57f-f6e15978e5a5",
    "outputId": "caa01d34-0b42-47ba-bd73-47520ac8c826"
   },
   "outputs": [],
   "source": [
    "data.info()"
   ]
  },
  {
   "cell_type": "markdown",
   "id": "f98aaa1e-0b77-4eb4-8709-b11e670de01c",
   "metadata": {
    "id": "f98aaa1e-0b77-4eb4-8709-b11e670de01c"
   },
   "source": [
    "Notar que este comando resume bastante de la información que estuvimos viendo hasta ahora, además de devolver el tipo de dato de cada columna. **Si no lo recuerdas, estudia a qué refiere cada `Dtype`**."
   ]
  },
  {
   "cell_type": "markdown",
   "id": "b3c0ef85-c101-4c3a-bd0b-eaa0c4960784",
   "metadata": {
    "id": "b3c0ef85-c101-4c3a-bd0b-eaa0c4960784"
   },
   "source": [
    "**Ejercicio:**. ¿Hay columnas que correspondan a fechas?¿Qué tipo de dato - float, int, string - está utilizando para representar esas fechas? ¿Se puede hacer algún tratamiento particular con esas columnas? Pistas: `parse_dates` en `pd.read_csv()`, o `pd.to_datetime`.\n",
    "\n",
    "Vamos a realizar un sencillo procedimiento que es común al trabajar con fechas. En primer lugar, notemos qué hay dos columnas con fechas, 'fecha_origen_recorrido' y 'fecha_destino_recorrido', pero cuyo Dtype es \"object\". Veamos qué significa."
   ]
  },
  {
   "cell_type": "code",
   "execution_count": null,
   "id": "19f59a1b-6187-4b7b-becf-ffa2c15fbb6a",
   "metadata": {
    "id": "19f59a1b-6187-4b7b-becf-ffa2c15fbb6a",
    "outputId": "dc1aebc2-78b8-48fb-e391-92076b117b5e"
   },
   "outputs": [],
   "source": [
    "data[['fecha_origen_recorrido', 'fecha_destino_recorrido']].head()"
   ]
  },
  {
   "cell_type": "markdown",
   "id": "8467dbc9-770a-4937-9d73-7d2aafad9019",
   "metadata": {
    "id": "8467dbc9-770a-4937-9d73-7d2aafad9019"
   },
   "source": [
    "A simple vista, parecen fechas, pero el tipo de dato es..."
   ]
  },
  {
   "cell_type": "code",
   "execution_count": null,
   "id": "55ac2b83-a7ef-478a-97ab-2b0d76ed0e66",
   "metadata": {
    "id": "55ac2b83-a7ef-478a-97ab-2b0d76ed0e66",
    "outputId": "17847a0a-39be-4421-d272-21402e99f453"
   },
   "outputs": [],
   "source": [
    "print(data['fecha_origen_recorrido'].iloc[0])\n",
    "print(type(data['fecha_origen_recorrido'].iloc[0]))"
   ]
  },
  {
   "cell_type": "markdown",
   "id": "a680c102-838e-4274-a1b4-52dbb9167988",
   "metadata": {
    "id": "a680c102-838e-4274-a1b4-52dbb9167988"
   },
   "source": [
    "¡Un string! No es la forma más cómoda de trabajar con fechas. Hay dos opciones, convertir estas columnas a un tipo de dato más cómodo, o hacerlo al momento de abrir los datos. A continuación lo vamos a convertir a un formato particular, pero en la celda donde cargamos los datos dejamos una línea comentada que hace exactamente lo mismo al momento de cargar los datos. "
   ]
  },
  {
   "cell_type": "code",
   "execution_count": null,
   "id": "81a70cf7-9cb6-449f-96d2-ad483ee21059",
   "metadata": {
    "id": "81a70cf7-9cb6-449f-96d2-ad483ee21059"
   },
   "outputs": [],
   "source": [
    "data['fecha_origen_recorrido'] = pd.to_datetime(data['fecha_origen_recorrido'])\n",
    "data['fecha_destino_recorrido'] = pd.to_datetime(data['fecha_destino_recorrido'])"
   ]
  },
  {
   "cell_type": "markdown",
   "id": "e3091eca-f2b5-4b42-8bc9-91e3c67ec22e",
   "metadata": {
    "id": "e3091eca-f2b5-4b42-8bc9-91e3c67ec22e"
   },
   "source": [
    "Si volvemos a ver la información del DataFrame, nos da que es un `datetime64[ns]` que es un tipo de dato estándar para trabajar con fechas."
   ]
  },
  {
   "cell_type": "code",
   "execution_count": null,
   "id": "3cd38e9b-9f78-4933-95e9-7dff2751cd14",
   "metadata": {
    "id": "3cd38e9b-9f78-4933-95e9-7dff2751cd14",
    "outputId": "a36263d7-082d-4eec-b643-3f0debb6c48c"
   },
   "outputs": [],
   "source": [
    "data.info()"
   ]
  },
  {
   "cell_type": "markdown",
   "id": "2da069cc-3ad5-4170-8c3b-42822372e362",
   "metadata": {
    "id": "2da069cc-3ad5-4170-8c3b-42822372e362"
   },
   "source": [
    "Hay muchas cosas que podemos hacer al tener las fechas en este formato. Por ejemplo, ver día/mes/año/hora/etc. asociado a cada una. "
   ]
  },
  {
   "cell_type": "code",
   "execution_count": null,
   "id": "c56fd885-d3db-4ed6-9306-ce4e1566128f",
   "metadata": {
    "id": "c56fd885-d3db-4ed6-9306-ce4e1566128f",
    "outputId": "b9c00078-163a-4d3d-8176-83b61e20e5f0"
   },
   "outputs": [],
   "source": [
    "# data.fecha_destino_recorrido.dt.year\n",
    "# data.fecha_destino_recorrido.dt.month\n",
    "# data.fecha_destino_recorrido.dt.day\n",
    "data.fecha_destino_recorrido.dt.hour\n"
   ]
  },
  {
   "cell_type": "markdown",
   "id": "5cbdae46-7066-4e5c-adf2-28fe83d7be33",
   "metadata": {
    "id": "5cbdae46-7066-4e5c-adf2-28fe83d7be33"
   },
   "source": [
    "Y muchas más cosas que suelen ser muy cómodas al trabajar con fechas."
   ]
  },
  {
   "cell_type": "markdown",
   "id": "c07cef25-b53c-4b33-b864-795f82015c35",
   "metadata": {
    "id": "c07cef25-b53c-4b33-b864-795f82015c35"
   },
   "source": [
    "**Ejercicio:** notar que la columna 'duracion_recorrido' también posee datos temporales en un formato poco práctico. ¿Qué podemos hacer para convertirlo a algo más fácil de utilizar? **Pista**: explorar el uso de la función `pd.to_timedelta` y/o, ahora que ya podemos operar con la fecha inicial y final del recorrido, reconstruir la columna con esa información."
   ]
  },
  {
   "cell_type": "code",
   "execution_count": null,
   "id": "12d7a785-ccc2-4ed3-9c73-f6f47386deeb",
   "metadata": {
    "id": "12d7a785-ccc2-4ed3-9c73-f6f47386deeb"
   },
   "outputs": [],
   "source": [
    "data['duracion_recorrido'] = pd.to_timedelta(data['duracion_recorrido'])"
   ]
  },
  {
   "cell_type": "code",
   "execution_count": null,
   "id": "d1aef230-851f-4573-8341-88ffbf7d6b07",
   "metadata": {
    "id": "d1aef230-851f-4573-8341-88ffbf7d6b07",
    "outputId": "e5ddd291-aa51-4046-dd6b-ec8e0f0834b3"
   },
   "outputs": [],
   "source": [
    "data.info()"
   ]
  },
  {
   "cell_type": "markdown",
   "id": "723e9ff8-d71d-4509-85e2-9ae873de549c",
   "metadata": {
    "id": "723e9ff8-d71d-4509-85e2-9ae873de549c",
    "jp-MarkdownHeadingCollapsed": true,
    "tags": []
   },
   "source": [
    "**Ejercicio - Calidad de los datos**. \n",
    "\n",
    "Estudiar si hay:    \n",
    "1. Valores Faltantes\n",
    "1. Entradas duplicadas\n",
    "1. Valores atípicos\n",
    "1. Consistencia interna. Esto refiere a estudiar si no hay información contradictoria en el DataFrame. Qué estudiar dependerá del objetivo del análisis, por lo que puede ser difícil hacerlo sin un objetivo claro.\n",
    "   "
   ]
  },
  {
   "cell_type": "markdown",
   "id": "d62c4d75-d916-41aa-abcb-362d41ba4fee",
   "metadata": {
    "id": "d62c4d75-d916-41aa-abcb-362d41ba4fee"
   },
   "source": [
    "**Valores faltantes**"
   ]
  },
  {
   "cell_type": "code",
   "execution_count": null,
   "id": "f5d7996d-2c53-4041-84d6-96440a6848c9",
   "metadata": {
    "id": "f5d7996d-2c53-4041-84d6-96440a6848c9",
    "outputId": "2a7a7989-6288-4e28-bd3e-8e2e14fe655b"
   },
   "outputs": [],
   "source": [
    "data.isna().sum()"
   ]
  },
  {
   "cell_type": "markdown",
   "id": "681e0169-9ded-4f49-98ad-a14693f0ea2f",
   "metadata": {
    "id": "681e0169-9ded-4f49-98ad-a14693f0ea2f"
   },
   "source": [
    "Hay algunos valores faltantes. Por ahora no vamos a hacer nada con ellos, pero en algún momento tendremos que ocuparnos.\n",
    "\n",
    "**Filas duplicadas**"
   ]
  },
  {
   "cell_type": "code",
   "execution_count": null,
   "id": "343b309c-58ea-4359-b691-dc0823d064c9",
   "metadata": {
    "id": "343b309c-58ea-4359-b691-dc0823d064c9",
    "outputId": "b7f462f2-d579-4da3-9bfa-626afe57fa6f"
   },
   "outputs": [],
   "source": [
    "data.duplicated().sum()"
   ]
  },
  {
   "cell_type": "markdown",
   "id": "0c9d2e9a-6017-42f6-8b8a-e669cae28fe6",
   "metadata": {
    "id": "0c9d2e9a-6017-42f6-8b8a-e669cae28fe6"
   },
   "source": [
    "**Valores atípicos**\n",
    "\n",
    "Veamos los 10 recorridos más cortos y más largos."
   ]
  },
  {
   "cell_type": "code",
   "execution_count": null,
   "id": "cb1d16c7-7427-4014-8316-fa2d3d072db0",
   "metadata": {
    "id": "cb1d16c7-7427-4014-8316-fa2d3d072db0",
    "outputId": "47e4dd43-cbd4-47e1-a23d-c31469fc408e"
   },
   "outputs": [],
   "source": [
    "data.duracion_recorrido.nsmallest(10)"
   ]
  },
  {
   "cell_type": "code",
   "execution_count": null,
   "id": "a45132e5-2841-4f9e-81d5-afc77aa6b9a8",
   "metadata": {
    "id": "a45132e5-2841-4f9e-81d5-afc77aa6b9a8",
    "outputId": "8d6dc108-8f7e-45ad-d9fa-c5132fd797f5"
   },
   "outputs": [],
   "source": [
    "data.duracion_recorrido.nlargest(10)"
   ]
  },
  {
   "cell_type": "markdown",
   "id": "21e5f77d-30d7-4d50-a237-6b8a68946104",
   "metadata": {
    "id": "21e5f77d-30d7-4d50-a237-6b8a68946104"
   },
   "source": [
    "Parece ser que los recorridos más cortos son de cinco minutos y más largos de 3 horas. Con esta información, no podemos afirmar si hay valores atípicos en este atributo.\n",
    "\n",
    "**Probablemente valga la pena estudiar características del sistema de Ecobicis para ver si estos valores no están de alguna forma asociadas a ellas.**\n",
    "\n",
    "Aprovechemos y hagamos un histograma de la duración de los recorridos y veamos qué valores toman:"
   ]
  },
  {
   "cell_type": "code",
   "execution_count": null,
   "id": "a03b338f-3f2a-4c5e-a3fa-8e3584cd849a",
   "metadata": {
    "id": "a03b338f-3f2a-4c5e-a3fa-8e3584cd849a",
    "outputId": "83c54f92-64df-4a69-da57-3010d2b4ad8e"
   },
   "outputs": [],
   "source": [
    "(data.duracion_recorrido.astype('timedelta64[s]') / 60).hist() ### PARA PASAR A MINUTOS\n",
    "plt.xlabel('Duración recorrido (minutos)')"
   ]
  },
  {
   "cell_type": "markdown",
   "id": "8464732f-b0af-4ae7-82f7-63dc1f8e41e9",
   "metadata": {
    "id": "8464732f-b0af-4ae7-82f7-63dc1f8e41e9"
   },
   "source": [
    "**Consistencia interna**\n",
    "\n",
    "Dejamos un ejemplo. Las estaciones tienen un nombre y un id. El mapeo entre nombre e id debería ser único. Si no lo es, es una incosistencia del dataset. Además, este mapeo debería ser, en principio, el mismo tanto para las estaciones de origen como de destino.\n",
    "\n",
    "Podemos empezar mirando cuántos 'id_estacion_origen' únicos hay y cuántos 'nombre_estacion_origen'. Si este número ya no coincide, es un indicador de una incostencia,"
   ]
  },
  {
   "cell_type": "code",
   "execution_count": null,
   "id": "e5ff81c6-3424-41d2-9264-a21063430712",
   "metadata": {
    "id": "e5ff81c6-3424-41d2-9264-a21063430712",
    "outputId": "9986cdeb-f744-4cc9-f635-583c5c3d16b7"
   },
   "outputs": [],
   "source": [
    "print(data['id_estacion_origen'].nunique(), data['nombre_estacion_origen'].nunique())"
   ]
  },
  {
   "cell_type": "markdown",
   "id": "d1499111-56d3-4fad-ab34-8f3c9363dea9",
   "metadata": {
    "id": "d1499111-56d3-4fad-ab34-8f3c9363dea9"
   },
   "source": [
    "No lo haremos aquí, pero hay que estudiar por qué estos números no coinciden. Tal vez es simplemente que el nombre de una o más estaciones figuran escritos de formas diferentes. No profundizaremos aquí en este análisis, pero deben tener siempre en cuenta que los conjuntos de datos pueden tener inconsitencias. El impacto que éstas tengan dependerá de la gravedad, la cantidad de filas alcanzadas y la tarea a desarrollar."
   ]
  },
  {
   "cell_type": "markdown",
   "id": "a26b41b5-c1fa-4b8d-ae6f-ce95258c0dc6",
   "metadata": {
    "id": "a26b41b5-c1fa-4b8d-ae6f-ce95258c0dc6"
   },
   "source": [
    "**Ejercicio:** estudiar las distribuciones de los datos. Pistas: para variables continuas, puedes usar histogramas. Para variables categóricas, puede ser útil la función `value_counts()` de Pandas o usar gráficos de barras.\n",
    "\n",
    "\n",
    "**Algunas distribuciones**\n",
    "\n",
    "Ya hemos estudiado la distribución de la duración de los recorridos. Dejamos, como ejemplo, el ranking de las 30 estaciones de origen más utilizadas. **Para pensar: al hacer este gráfico, ¿habría que tener en cuenta algo de lo visto anteriormente?**"
   ]
  },
  {
   "cell_type": "code",
   "execution_count": null,
   "id": "edfb278c-6d1b-40d1-bc06-d660df35f61c",
   "metadata": {
    "id": "edfb278c-6d1b-40d1-bc06-d660df35f61c",
    "outputId": "19a45db3-ba03-46e7-b050-444a91bc7fa4"
   },
   "outputs": [],
   "source": [
    "data['nombre_estacion_origen'].value_counts().iloc[:30].plot(kind='bar', figsize = (12,4))"
   ]
  },
  {
   "cell_type": "markdown",
   "id": "4a7acdd5-bcc8-4a2f-abe9-8b51e8075c39",
   "metadata": {
    "id": "4a7acdd5-bcc8-4a2f-abe9-8b51e8075c39"
   },
   "source": [
    "**Cantidad de viajes por día**\n",
    "\n",
    "Lo último que haremos - luego les tocará explorar a ustedes - es hacer un gráfico de la cantidad de viajes por día. Hay muchas formas de hacer esto. Vamos a dejar una forma en particular que sirve, de paso, para ver algunas operaciones que podemos hacer con las fechas.\n",
    "\n",
    "En primer lugar, notar que a partir de la columna 'fecha_origen_recorrido' en formato `datetime64[ns]` podemos obtener la fecha **sin el horario**."
   ]
  },
  {
   "cell_type": "code",
   "execution_count": null,
   "id": "97c85e0f-ba88-4606-aaea-227eed568567",
   "metadata": {
    "id": "97c85e0f-ba88-4606-aaea-227eed568567",
    "outputId": "12600954-21e7-41e9-abcd-cdad064c2a90"
   },
   "outputs": [],
   "source": [
    "data.fecha_origen_recorrido.dt.date"
   ]
  },
  {
   "cell_type": "markdown",
   "id": "715ce686-8961-4126-a9c4-f7af974ae072",
   "metadata": {
    "id": "715ce686-8961-4126-a9c4-f7af974ae072"
   },
   "source": [
    "Entonces, una forma de obtener cuántos viajes por día hay es simplemente contar la cantidad de veces que aparece cada fecha. "
   ]
  },
  {
   "cell_type": "code",
   "execution_count": null,
   "id": "2d2b6931-da44-4170-8fee-7331bfe9e614",
   "metadata": {
    "id": "2d2b6931-da44-4170-8fee-7331bfe9e614",
    "outputId": "2050f31b-a7b7-4b9e-884e-07b0bd590f44"
   },
   "outputs": [],
   "source": [
    "data.fecha_origen_recorrido.dt.date.value_counts()"
   ]
  },
  {
   "cell_type": "markdown",
   "id": "4e70a1c0-31e8-4222-81ee-949a380239d0",
   "metadata": {
    "id": "4e70a1c0-31e8-4222-81ee-949a380239d0"
   },
   "source": [
    "Notar que aparecen ordenadas por cantidad, no por fecha. Guardamos en un variable"
   ]
  },
  {
   "cell_type": "code",
   "execution_count": null,
   "id": "54e7396f-2021-4285-8e3e-3da0e8668cb2",
   "metadata": {
    "id": "54e7396f-2021-4285-8e3e-3da0e8668cb2",
    "outputId": "cb3a9999-fbf4-409c-cc65-e0cbc4ee0802"
   },
   "outputs": [],
   "source": [
    "viajes_por_dia = data.fecha_origen_recorrido.dt.date.value_counts().sort_index()\n",
    "viajes_por_dia"
   ]
  },
  {
   "cell_type": "markdown",
   "id": "a4bd722d-f02f-4be0-927d-d9f5f8f6229a",
   "metadata": {
    "id": "a4bd722d-f02f-4be0-927d-d9f5f8f6229a"
   },
   "source": [
    "Y graficamos."
   ]
  },
  {
   "cell_type": "code",
   "execution_count": null,
   "id": "a2d7362a-928d-4468-80ee-d740d97c5169",
   "metadata": {
    "id": "a2d7362a-928d-4468-80ee-d740d97c5169",
    "outputId": "e686901e-0a2a-4c2b-91f9-b9280bee89b2"
   },
   "outputs": [],
   "source": [
    "viajes_por_dia.plot(figsize = (12,4))"
   ]
  },
  {
   "cell_type": "markdown",
   "id": "f9b344cc-e8a9-44cf-a016-0f78862a8b20",
   "metadata": {
    "id": "f9b344cc-e8a9-44cf-a016-0f78862a8b20"
   },
   "source": [
    "Esto es todo lo que vamos a hacer por nuestro lado. Ahora es el turno de ustedes de continuar con la exploración. Elije preguntas que te interese responder. Cuando quieras combinar información de diferentes columnas, puede ser útil la función `groupby()`de Pandas. A continuación, dejamos algunas consignas.\n",
    "\n",
    "**Ejercicios:**\n",
    "\n",
    "1. Explora relaciones entre varibles. ¿Cómo lo harías para variables numéricas?¿Y con categóricas? Pista: recuerda que un gráfico vale más que mil palabras. La función `groupby` de Pandas puede ser útil.\n",
    "\n",
    "1. Estudia correlaciones entre variables.¿Hay variables correlacionadas?¿Tiene sentido buscar correlaciones entre todas las variables?\n",
    "\n",
    "Si bien se van a topar con datasets con muchísimas más variables que éste, las que hay en este dataset son suficientes como para que haya que abordarlo de manera metódica. Para guiar la exploración, vale la pena generar algunas pocas preguntas para hacerle al dataset. No hace falta que éstas estén formuladas de una manera muy precisa. Dejamos algunas que pueden servirles de disparador:\n",
    "\n",
    "1. ¿Cuáles estaciones son las más utilizadas?¿Cuáles son las menos utilizadas?¿Varían las estaciones más y menos utilizadas según si es día de la semana o fin de semana?\n",
    "2. ¿Cuáles son los recorridos más utilizados? (Recorrido en el sentido estación origen - estación destino.\n",
    "\n",
    "Recuerda ir comentando las observaciones y conclusiones a las que vas llegando."
   ]
  },
  {
   "cell_type": "markdown",
   "id": "291813ae-08f0-457e-adff-0bf50f7465bd",
   "metadata": {},
   "source": [
    "### Formulario de asistencia\n",
    "\n",
    "Por favor, no olviden completar el siguiente formulario antes del miércoles 22/03 a la 23:59.\n",
    "\n",
    "https://forms.gle/jaNnyVkzsFVjPpPV9\n"
   ]
  }
 ],
 "metadata": {
  "colab": {
   "provenance": []
  },
  "kernelspec": {
   "display_name": "Python 3 (ipykernel)",
   "language": "python",
   "name": "python3"
  },
  "language_info": {
   "codemirror_mode": {
    "name": "ipython",
    "version": 3
   },
   "file_extension": ".py",
   "mimetype": "text/x-python",
   "name": "python",
   "nbconvert_exporter": "python",
   "pygments_lexer": "ipython3",
   "version": "3.10.6"
  }
 },
 "nbformat": 4,
 "nbformat_minor": 5
}
