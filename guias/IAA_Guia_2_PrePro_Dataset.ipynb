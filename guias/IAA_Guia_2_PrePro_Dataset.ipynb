{
 "cells": [
  {
   "cell_type": "markdown",
   "id": "e0ae20be-e880-4337-b00b-e00b1a29a557",
   "metadata": {},
   "source": [
    "# Guía 2 - Regresión Lineal - Preprocesamiento Dataset\n",
    "\n",
    "Vamos a dejar lista una pequeña preparación de los datos para que puedan trabajar. Esto NO signfica que esta preparación sea óptima."
   ]
  },
  {
   "cell_type": "code",
   "execution_count": null,
   "id": "3bb857a7-a3c1-4a6d-923f-0d902ed39416",
   "metadata": {},
   "outputs": [],
   "source": [
    "import numpy as np\n",
    "\n",
    "import pandas as pd\n",
    "import matplotlib.pyplot as plt\n",
    "\n",
    "import datetime\n",
    "import os"
   ]
  },
  {
   "cell_type": "markdown",
   "id": "e73958c8-834b-4b4a-97fa-53a92e300e6c",
   "metadata": {},
   "source": [
    "Comenzamos cargando los datos sobre viajes en bicicleta. Bastará con cargar la fecha de origen de cada viaje."
   ]
  },
  {
   "cell_type": "code",
   "execution_count": null,
   "id": "93dc453c-3a1d-4cef-983e-6d9ded32af1f",
   "metadata": {},
   "outputs": [],
   "source": [
    "data = pd.read_csv(f'datasets/ecobicis/recorridos-realizados-2018.zip',\n",
    "                        parse_dates=['fecha_origen_recorrido'],\n",
    "                   usecols=['fecha_origen_recorrido'])\n",
    "\n",
    "data.head()"
   ]
  },
  {
   "cell_type": "markdown",
   "id": "75462e60-e22f-4bd3-a01c-8bfc19a4856b",
   "metadata": {},
   "source": [
    "Contamos cuántos viajes hubo por día."
   ]
  },
  {
   "cell_type": "code",
   "execution_count": null,
   "id": "4dab6a17-52bd-49db-91f0-f6a97b1c3861",
   "metadata": {},
   "outputs": [],
   "source": [
    "viajes_por_dia = data.fecha_origen_recorrido.dt.date.value_counts().sort_index()\n",
    "viajes_por_dia"
   ]
  },
  {
   "cell_type": "markdown",
   "id": "016de825-9571-444f-8216-23c88c960418",
   "metadata": {},
   "source": [
    "Llevamos a un `DataFrame` y reemplazamos la variable `data`"
   ]
  },
  {
   "cell_type": "code",
   "execution_count": null,
   "id": "d3b5f3b9-8ad7-40cd-be72-a4ba92fb12fc",
   "metadata": {},
   "outputs": [],
   "source": [
    "data = pd.DataFrame({'Date': viajes_por_dia.index, 'Viajes': viajes_por_dia.values})\n",
    "data"
   ]
  },
  {
   "cell_type": "markdown",
   "id": "a19d711a-d7cb-417e-8368-3bccb31a6d99",
   "metadata": {},
   "source": [
    "**Datos Clima**\n",
    "\n",
    "Hemos descargado datos del clima [aquí](https://www.ncei.noaa.gov/)."
   ]
  },
  {
   "cell_type": "code",
   "execution_count": null,
   "id": "ee411a5f-f6ef-459c-b936-ef564a3d2867",
   "metadata": {},
   "outputs": [],
   "source": [
    "data_clima = pd.read_csv('datasets/ecobicis/AR000875850.csv', \n",
    "                         parse_dates = ['DATE'], \n",
    "                         usecols=['DATE','TMIN', 'TMAX', 'TAVG', 'PRCP'])\n",
    "\n",
    "### Nos quedamos unicamente con los datos correspondientes a 2018\n",
    "data_clima = data_clima[data_clima.DATE.dt.year == 2018]\n",
    "data_clima['DATE'] = data_clima.DATE.dt.date\n",
    "data_clima.rename(columns={'DATE': 'Date'}, inplace=True)\n",
    "data_clima"
   ]
  },
  {
   "cell_type": "code",
   "execution_count": null,
   "id": "6259a5f8-6e9f-4bb1-b629-c4468b15ac69",
   "metadata": {},
   "outputs": [],
   "source": [
    "data_clima['TAVG'] = data_clima.TAVG/10\n",
    "data_clima['TMAX'] = data_clima.TMAX/10\n",
    "data_clima['TMIN'] = data_clima.TMIN/10\n",
    "data_clima['PRCP'] = data_clima.PRCP/10\n",
    "data_clima"
   ]
  },
  {
   "cell_type": "markdown",
   "id": "9db2b383-38e7-433d-a372-b005cc18d470",
   "metadata": {},
   "source": [
    "**Valores Faltantes**"
   ]
  },
  {
   "cell_type": "code",
   "execution_count": null,
   "id": "59c6318b-032c-4c22-bb5b-4a7e98a1876c",
   "metadata": {},
   "outputs": [],
   "source": [
    "data_clima.isna().sum()"
   ]
  },
  {
   "cell_type": "markdown",
   "id": "8cc76fa4-0630-435d-80ae-a30d5e24cabc",
   "metadata": {},
   "source": [
    "Reemplazamos valores faltantes en PRCP por 0."
   ]
  },
  {
   "cell_type": "code",
   "execution_count": null,
   "id": "6d644408-0aa4-479b-b354-3f9be3eb543b",
   "metadata": {},
   "outputs": [],
   "source": [
    "data_clima.loc[data_clima.PRCP.isna(),'PRCP'] = 0"
   ]
  },
  {
   "cell_type": "code",
   "execution_count": null,
   "id": "efde9b99-07f9-42ed-bcf6-4794e38827e2",
   "metadata": {},
   "outputs": [],
   "source": [
    "data = data.merge(data_clima, on='Date')\n",
    "data"
   ]
  },
  {
   "cell_type": "markdown",
   "id": "35c5ed37-f8e2-4f6e-9fd1-a4a17aad6f0e",
   "metadata": {},
   "source": [
    "**Guardamos en un CSV**"
   ]
  },
  {
   "cell_type": "code",
   "execution_count": null,
   "id": "b9d9b430-30fb-45f7-830e-794e2b2f19a0",
   "metadata": {},
   "outputs": [],
   "source": [
    "data.to_csv('IAA_Guia_2_data.csv', index=False)"
   ]
  }
 ],
 "metadata": {
  "kernelspec": {
   "display_name": "Python 3 (ipykernel)",
   "language": "python",
   "name": "python3"
  },
  "language_info": {
   "codemirror_mode": {
    "name": "ipython",
    "version": 3
   },
   "file_extension": ".py",
   "mimetype": "text/x-python",
   "name": "python",
   "nbconvert_exporter": "python",
   "pygments_lexer": "ipython3",
   "version": "3.10.8"
  }
 },
 "nbformat": 4,
 "nbformat_minor": 5
}
