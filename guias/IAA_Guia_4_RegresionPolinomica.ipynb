{
  "cells": [
    {
      "cell_type": "markdown",
      "metadata": {
        "id": "qbDe3OkjQPzR"
      },
      "source": [
        "# Regresión Polinomial"
      ]
    },
    {
      "cell_type": "markdown",
      "metadata": {
        "id": "kvzZ9cLbQPzS"
      },
      "source": [
        "Hasta ahora hemos utilizado modelos lineales para tareas de regresión y clasificación. Esto quiere decir que el resultado de nuestra predicción depende de una combinación lineal de los features. Sin embargo, hemos visto que es util preprocesar los features antes de alimentar un modelo. Un preprocesado muy util, que permite capturar relaciones no lineales entre los features, es el _preprocesado polinomico_. El resultado de componer este preprocesado con un modelo lineal de regresión es lo que se conoce como _regresión polinómica_, pero también puede ser utilizado para clasificación con un regresor logístico.\n",
        "\n",
        "A lo largo de este notebook:\n",
        "- Nos encontraremos con un conjunto de datos que posee características no lineales\n",
        "- Entrenaremos un regresor logístico para clasificar\n",
        "- Realizaremos un preprocesamiento polinómico de los datos, y veremos esto modifica nuestros datos.\n",
        "- Entrenaremos un regresor logístico polinómico, y lo compararemos al regresor logístico lineal.\n",
        "- Exploraremos distintos grados del polinomio, en búsqueda de encontrar _el grado óptimo_.\n",
        "\n",
        "\n"
      ]
    },
    {
      "cell_type": "markdown",
      "metadata": {
        "id": "IOblVJhGQPzT"
      },
      "source": [
        "## Utils"
      ]
    },
    {
      "cell_type": "markdown",
      "metadata": {
        "id": "8Bwr-q5-QPzT"
      },
      "source": [
        "A continuación le presentamos una función que podrá ser de utilidad para plotear regiones y fronteras de decisión. Si quiere puede analizar que hace, o simplemente usarla en sus soluciones."
      ]
    },
    {
      "cell_type": "code",
      "execution_count": null,
      "metadata": {
        "id": "YR25sHuoQPzT"
      },
      "outputs": [],
      "source": [
        "import numpy as np\n",
        "import matplotlib.pyplot as plt\n",
        "import sklearn\n",
        "\n",
        "def plot_regions(classifier, x, t):\n",
        "    \"\"\"Plot results from classification.\"\"\"\n",
        "    plt.figure(figsize=(9, 7))\n",
        "\n",
        "    xx, yy = np.meshgrid(np.linspace(x[:, 0].min()-1, x[:, 0].max()+1, 200),\n",
        "                         np.linspace(x[:, 1].min()-1, x[:, 1].max()+1, 200))\n",
        "\n",
        "    # evaluate decision function\n",
        "    Z = classifier.decision_function(np.c_[xx.ravel(), yy.ravel()])\n",
        "    Z = Z.reshape(xx.shape)\n",
        "    # colour regions\n",
        "    plt.pcolormesh(xx, yy, Z<0, cmap=plt.cm.bwr, shading='auto', alpha=0.4)\n",
        "    # decision boundary\n",
        "    plt.contour(xx, yy, 1/(1 + np.exp(-Z)), [0.05, 0.5, 0.95], colors=['0.5', 'k', '0.5'], zorder=1)\n",
        "\n",
        "    xc1 = x[t == np.unique(t.flatten()).max()]\n",
        "    xc2 = x[t == np.unique(t.flatten()).min()]\n",
        "\n",
        "    plt.plot(*xc1.T, 'ob', mfc='None', label='C1')\n",
        "    plt.plot(*xc2.T, 'or', mfc='None', label='C2')\n",
        "\n",
        "    # Remove ticks\n",
        "    plt.xticks(())\n",
        "    plt.yticks(())\n",
        "    plt.axis('tight')\n",
        "\n",
        "    return\n"
      ]
    },
    {
      "cell_type": "markdown",
      "metadata": {
        "id": "OOFfbYwkQPzU"
      },
      "source": [
        "## Dataset"
      ]
    },
    {
      "cell_type": "markdown",
      "metadata": {
        "id": "wHJsMxQCQPzU"
      },
      "source": [
        "La siguiente línea de código generará un dataset sintético a utilizar en este notebook:"
      ]
    },
    {
      "cell_type": "code",
      "execution_count": null,
      "metadata": {
        "id": "h7muJY2NQPzU"
      },
      "outputs": [],
      "source": [
        "import numpy as np\n",
        "from sklearn.datasets import make_moons\n",
        "X, y = make_moons(300, noise=0.25, random_state=42)"
      ]
    },
    {
      "cell_type": "markdown",
      "metadata": {
        "id": "-Oeh_XgiQPzV"
      },
      "source": [
        "## Ejercicio 1\n",
        "\n",
        "- Examine el dataset y grafíquelo\n",
        "- Utilice la función `train_test_split` para separar un 20% del dataset como conjunto de test. Este servirá para evaluar la performance del modelo sobre datos no vistos anteriormente.\n",
        "- Plotee conjuntos (train y test) para visualizar la separación."
      ]
    },
    {
      "cell_type": "code",
      "execution_count": null,
      "metadata": {
        "id": "eVUAC3q4QPzV"
      },
      "outputs": [],
      "source": [
        "from sklearn.model_selection import train_test_split\n",
        "# Tu turno...\n"
      ]
    },
    {
      "cell_type": "markdown",
      "metadata": {
        "id": "QOHT31qxQPzV"
      },
      "source": [
        "## Ejercicio 2\n",
        "\n",
        "- Entrene un regresor logístico a los datos de entrenamiento. \n",
        "- Grafique la frontera de decisión (tip: puede utilizar la función utilitaria provista al comienzo del notebook)\n",
        "- Mida la exactitud sobre el conjunto de entrenamiento."
      ]
    },
    {
      "cell_type": "code",
      "execution_count": null,
      "metadata": {
        "id": "Grx7QDLbQPzV"
      },
      "outputs": [],
      "source": [
        "from sklearn.linear_model import LogisticRegression\n",
        "from sklearn.metrics import accuracy_score\n",
        "# Tu turno..."
      ]
    },
    {
      "cell_type": "markdown",
      "metadata": {
        "id": "Yuv1cPgiQPzV"
      },
      "source": [
        "## Ejercicio 3\n",
        "\n",
        "Un polinomio de grado $M$ es una combinación lineal de monomios de grado $0$ hasta $M$. Es decir, si miramos un polinomio univariable de segundo grado, este es de la forma:\n",
        "$$w_0 + w_1 x + w_2 x^2 $$\n",
        "que no es mas que una combinacion lineal de los monomios $x^0$ ($=1$), $x^1$ ($=x$) y $x^2$.\n",
        "\n",
        "El caso de dos variables $x_1$ y $x_2$ (como nuestro dataset), tambien hay que tener en cuenta los terminos cruzados:\n",
        "$$w_{(0,0)} + w_{(1,0)} x_1 + w_{(0,1)} x_2 + w_{(2,0)} x_1^2 + w_{(1,1)} x_1 x_2 + w_{(0,2)} x_2^2$$\n",
        "\n",
        "es decir una combinacion lineal de los monomios $1$, $x_1$, $x_2$, $x_1^2$, $x_2^2$ y $x_1 x_2$.\n",
        "\n",
        "Esto implica que un modelo polinomico no es mas que un modelo lineal, con un preprocesado que consiste en tomar los features del dataset, y devolver todos los monomios de estos hasta cierto grado. \n",
        "\n",
        "Este ya esta implementado en sklearn:\n",
        "\n",
        "\n",
        "\n",
        "- Importe de `sklearn.preprocessing` el transformer `PolynomialFeatures`. Analice su firma. (_Pista: `?`_)\n",
        "- Instancielo con el grado polinomico 1, 2 y 3. Para cada uno de ellos, transforme los datos (_Pista: `.fit_transform()`_), y examine como cambia el dataset, en particular mire el `shape`."
      ]
    },
    {
      "cell_type": "code",
      "execution_count": null,
      "metadata": {
        "id": "JeyIyNg0QPzV"
      },
      "outputs": [],
      "source": [
        "from sklearn.preprocessing import PolynomialFeatures\n",
        "# Tu turno...\n"
      ]
    },
    {
      "cell_type": "markdown",
      "metadata": {
        "id": "9JRGP3INQPzV"
      },
      "source": [
        "## Ejercicio 4\n",
        "\n",
        "- Entrene un regresor logístico polinómico de grado 3 sobre el dataset de entrenamiento.\n",
        "- Evalúe su exactitud sobre el conjuntos de entrenamiento. Compare con el obtenido en el ejercicio 2.\n",
        "\n",
        "Para plotear la frontera de decisión, proponemos que sigas los siguientes pasos:\n",
        "- Arme un pipeline de sklearn usando como primer paso el preprocesador polinomico, y como ultimo el regresor lineal. (_Pista: tanto `Pipeline` como `make_pipeline` de `sklearn.pipeline` pueden servir_)\n",
        "- Entrene este pipeline sobre el conjunto de entrenamiento\n",
        "- Pase el pipeline entrenado al argumento `classifier` de la función de `plot_regions` provista al comienzo del notebook.\n",
        "\n",
        "_Opcional:_\n",
        "- Examine como cambia el resultado incluyendo un `StandardScaler` entre el preprocesado polinomico y el regresor logístico. ¿Que cree que ocurre en este paso?"
      ]
    },
    {
      "cell_type": "code",
      "execution_count": null,
      "metadata": {
        "id": "7GvTVzq8QPzV"
      },
      "outputs": [],
      "source": [
        "from sklearn.pipeline import Pipeline, make_pipeline\n",
        "from sklearn.preprocessing import StandardScaler\n",
        "\n",
        "# Tu turno"
      ]
    },
    {
      "cell_type": "markdown",
      "metadata": {
        "id": "DuRaMZqCQPzW"
      },
      "source": [
        "## Ejercicio 5\n",
        "\n",
        "- Repita el ejercicio anterior para varios valores del grado polinómico (entre 1 y 10)\n",
        "- Compare cualitativamente como cambian las fronteras de decisión. \n",
        "- Compare que pasa con la exactitud sobre el conjunto de entrenamiento.\n",
        "- ¿Que cree que pasará con estos modelos cuando sean evaluados sobre datos que no han visto anteriormente?\n",
        "- Compare que pasa con la exactitud sobre el conjunto de **evaluación**.\n",
        "- ¿Que conclusiones extrae de esto?\n",
        "\n",
        "-_Opcional_: Registre los valores de exactitud en ambos conjuntos (train y test), y ploteelas en función del grado polinómico usado. ¿Que observa?"
      ]
    },
    {
      "cell_type": "code",
      "execution_count": null,
      "metadata": {
        "id": "czo-y0pQQPzW"
      },
      "outputs": [],
      "source": [
        "# Tu turno\n"
      ]
    },
    {
      "cell_type": "markdown",
      "metadata": {
        "id": "Jqz_pJokQPzW"
      },
      "source": [
        "## Ejercicio 6\n",
        "\n",
        "- En función a lo observado, defina un método para elegir el _*grado polinómico óptimo*_. \n",
        "- Encuentre, segun este criterio, cual es el grado óptimo para este conjunto de datos."
      ]
    },
    {
      "cell_type": "code",
      "execution_count": null,
      "metadata": {
        "id": "_A1vD1S5QPzW"
      },
      "outputs": [],
      "source": [
        "# Tu turno\n"
      ]
    },
    {
      "attachments": {},
      "cell_type": "markdown",
      "metadata": {},
      "source": [
        "## Formulario de asistencia\n",
        "\n",
        "Por favor, no olviden completar el siguiente formulario antes del miércoles 19/04 a la 23:59.\n",
        "\n",
        "https://forms.gle/TnDgVAMkqpcL2HiG9"
      ]
    }
  ],
  "metadata": {
    "colab": {
      "provenance": []
    },
    "kernelspec": {
      "display_name": "Python 3 (ipykernel)",
      "language": "python",
      "name": "python3"
    },
    "language_info": {
      "codemirror_mode": {
        "name": "ipython",
        "version": 3
      },
      "file_extension": ".py",
      "mimetype": "text/x-python",
      "name": "python",
      "nbconvert_exporter": "python",
      "pygments_lexer": "ipython3",
      "version": "3.10.6"
    },
    "vscode": {
      "interpreter": {
        "hash": "b0fa6594d8f4cbf19f97940f81e996739fb7646882a419484c72d19e05852a7e"
      }
    }
  },
  "nbformat": 4,
  "nbformat_minor": 0
}
